{
 "cells": [
  {
   "attachments": {},
   "cell_type": "markdown",
   "metadata": {},
   "source": [
    "## Flujos de Control"
   ]
  },
  {
   "attachments": {},
   "cell_type": "markdown",
   "metadata": {},
   "source": [
    "1) Crear una variable que contenga un elemento del conjunto de números enteros y luego imprimir por pantalla si es mayor o menor a cero"
   ]
  },
  {
   "cell_type": "code",
   "execution_count": 3,
   "metadata": {},
   "outputs": [
    {
     "name": "stdout",
     "output_type": "stream",
     "text": [
      "Igual a Cero\n"
     ]
    }
   ],
   "source": [
    "num=0\n",
    "if num>0:\n",
    "    print('Mayor que Cero')\n",
    "elif num<0:\n",
    "    print('Menor que Cero')\n",
    "else:\n",
    "    print('Igual a Cero')\n"
   ]
  },
  {
   "attachments": {},
   "cell_type": "markdown",
   "metadata": {},
   "source": [
    "2) Crear dos variables y un condicional que informe si son del mismo tipo de dato"
   ]
  },
  {
   "cell_type": "code",
   "execution_count": 5,
   "metadata": {},
   "outputs": [
    {
     "name": "stdout",
     "output_type": "stream",
     "text": [
      "Son de distinto tipo\n"
     ]
    }
   ],
   "source": [
    "x=1\n",
    "y='2'\n",
    "if type(x) == type(y):\n",
    "    print('Son del mismo tipo')\n",
    "else:\n",
    "    print('Son de distinto tipo')"
   ]
  },
  {
   "attachments": {},
   "cell_type": "markdown",
   "metadata": {},
   "source": [
    "3) Para los valores enteros del 1 al 20, imprimir por pantalla si es par o impar"
   ]
  },
  {
   "cell_type": "code",
   "execution_count": 8,
   "metadata": {},
   "outputs": [
    {
     "name": "stdout",
     "output_type": "stream",
     "text": [
      "1  Numero impar\n",
      "2  Numero par\n",
      "3  Numero impar\n",
      "4  Numero par\n",
      "5  Numero impar\n",
      "6  Numero par\n",
      "7  Numero impar\n",
      "8  Numero par\n",
      "9  Numero impar\n",
      "10  Numero par\n",
      "11  Numero impar\n",
      "12  Numero par\n",
      "13  Numero impar\n",
      "14  Numero par\n",
      "15  Numero impar\n",
      "16  Numero par\n",
      "17  Numero impar\n",
      "18  Numero par\n",
      "19  Numero impar\n",
      "20  Numero par\n"
     ]
    }
   ],
   "source": [
    "for i in range(1,21):\n",
    "    if i%2==0:\n",
    "        print(i, ' Numero par')\n",
    "    else:\n",
    "        print(i, ' Numero impar')"
   ]
  },
  {
   "attachments": {},
   "cell_type": "markdown",
   "metadata": {},
   "source": [
    "4) En un ciclo for mostrar para los valores entre 0 y 5 el resultado de elevarlo a la potencia igual a 3"
   ]
  },
  {
   "cell_type": "code",
   "execution_count": 10,
   "metadata": {},
   "outputs": [
    {
     "name": "stdout",
     "output_type": "stream",
     "text": [
      "0 al cubo es:  0\n",
      "1 al cubo es:  1\n",
      "2 al cubo es:  8\n",
      "3 al cubo es:  27\n",
      "4 al cubo es:  64\n",
      "5 al cubo es:  125\n"
     ]
    }
   ],
   "source": [
    "for i in range (0,6):\n",
    "    print(i, 'al cubo es: ',i*i*i)"
   ]
  },
  {
   "attachments": {},
   "cell_type": "markdown",
   "metadata": {},
   "source": [
    "5) Crear una variable que contenga un número entero y realizar un ciclo for la misma cantidad de ciclos"
   ]
  },
  {
   "cell_type": "code",
   "execution_count": 11,
   "metadata": {},
   "outputs": [
    {
     "name": "stdout",
     "output_type": "stream",
     "text": [
      "1\n",
      "2\n",
      "3\n"
     ]
    }
   ],
   "source": [
    "ciclos=3\n",
    "for i in range(1,ciclos+1):\n",
    "    print(i)"
   ]
  },
  {
   "attachments": {},
   "cell_type": "markdown",
   "metadata": {},
   "source": [
    "6) Utilizar un ciclo while para realizar el factorial de un número guardado en una variable, sólo si la variable contiene un número entero mayor a 0"
   ]
  },
  {
   "cell_type": "code",
   "execution_count": 15,
   "metadata": {},
   "outputs": [
    {
     "name": "stdout",
     "output_type": "stream",
     "text": [
      "Factorial de  24\n"
     ]
    }
   ],
   "source": [
    "numero=4\n",
    "factorial=1\n",
    "if numero>0:\n",
    "    while numero>0:\n",
    "        factorial=factorial * numero\n",
    "        numero-=1\n",
    "    print('Factorial de ', factorial)\n"
   ]
  },
  {
   "attachments": {},
   "cell_type": "markdown",
   "metadata": {},
   "source": [
    "7) Crear un ciclo for dentro de un ciclo while"
   ]
  },
  {
   "cell_type": "code",
   "execution_count": 18,
   "metadata": {},
   "outputs": [
    {
     "name": "stdout",
     "output_type": "stream",
     "text": [
      "*****\n",
      "****\n",
      "***\n",
      "**\n",
      "*\n"
     ]
    }
   ],
   "source": [
    "i = 5\n",
    "while i>0:\n",
    "    for j in range(1,i+1):\n",
    "        print('*', end=\"\")\n",
    "    print('')\n",
    "    i-=1"
   ]
  },
  {
   "attachments": {},
   "cell_type": "markdown",
   "metadata": {},
   "source": [
    "8) Crear un ciclo while dentro de un ciclo for"
   ]
  },
  {
   "cell_type": "code",
   "execution_count": 21,
   "metadata": {},
   "outputs": [
    {
     "name": "stdout",
     "output_type": "stream",
     "text": [
      "*\n",
      "**\n",
      "***\n",
      "****\n",
      "*****\n"
     ]
    }
   ],
   "source": [
    "for i in range(1,6):\n",
    "    j=i\n",
    "    while j>0:\n",
    "        print('*',end='')\n",
    "        j-=1\n",
    "    print('')"
   ]
  },
  {
   "attachments": {},
   "cell_type": "markdown",
   "metadata": {},
   "source": [
    "9) Imprimir los números primos existentes entre 0 y 30"
   ]
  },
  {
   "cell_type": "code",
   "execution_count": 29,
   "metadata": {},
   "outputs": [
    {
     "name": "stdout",
     "output_type": "stream",
     "text": [
      "0  no es primo\n",
      "1  es primo\n",
      "2  es primo\n",
      "3  es primo\n",
      "4  no es primo\n",
      "5  es primo\n",
      "6  no es primo\n",
      "7  es primo\n",
      "8  no es primo\n",
      "9  no es primo\n",
      "10  no es primo\n",
      "11  es primo\n",
      "12  no es primo\n",
      "13  es primo\n",
      "14  no es primo\n",
      "15  no es primo\n",
      "16  no es primo\n",
      "17  es primo\n",
      "18  no es primo\n",
      "19  es primo\n",
      "20  no es primo\n",
      "21  no es primo\n",
      "22  no es primo\n",
      "23  es primo\n",
      "24  no es primo\n",
      "25  no es primo\n",
      "26  no es primo\n",
      "27  no es primo\n",
      "28  no es primo\n",
      "29  es primo\n",
      "30  no es primo\n"
     ]
    }
   ],
   "source": [
    "for numero in range(0,31):\n",
    "    esPrimo = True\n",
    "    num = numero\n",
    "    while esPrimo and num>1:\n",
    "        if numero%num == 0 and num!=numero:\n",
    "            esPrimo=False\n",
    "        num-=1\n",
    "    if esPrimo and numero!=0:\n",
    "        print(numero, ' es primo')\n",
    "    else:\n",
    "        print(numero, ' no es primo')\n"
   ]
  },
  {
   "attachments": {},
   "cell_type": "markdown",
   "metadata": {},
   "source": [
    "10) ¿Se puede mejorar el proceso del punto 9? Utilizar las sentencias break y/ó continue para tal fin"
   ]
  },
  {
   "cell_type": "code",
   "execution_count": 3,
   "metadata": {},
   "outputs": [
    {
     "name": "stdout",
     "output_type": "stream",
     "text": [
      "0 no es primo\n",
      "1 es primo\n",
      "2  es primo\n",
      "3  es primo\n",
      "4  no es primo\n",
      "5  es primo\n",
      "6  no es primo\n",
      "7  es primo\n",
      "8  no es primo\n",
      "9  no es primo\n",
      "10  no es primo\n",
      "11  es primo\n",
      "12  no es primo\n",
      "13  es primo\n",
      "14  no es primo\n",
      "15  no es primo\n",
      "16  no es primo\n",
      "17  es primo\n",
      "18  no es primo\n",
      "19  es primo\n",
      "20  no es primo\n",
      "21  no es primo\n",
      "22  no es primo\n",
      "23  es primo\n",
      "24  no es primo\n",
      "25  no es primo\n",
      "26  no es primo\n",
      "27  no es primo\n",
      "28  no es primo\n",
      "29  es primo\n",
      "30  no es primo\n"
     ]
    }
   ],
   "source": [
    "for numero in range(31):\n",
    "    if numero==0:\n",
    "        print(numero, 'no es primo')\n",
    "        continue\n",
    "    if numero==1:\n",
    "        print(numero, 'es primo')\n",
    "        continue\n",
    "    esPrimo=True\n",
    "    for i in range(2,numero+1):\n",
    "        if numero%i==0 and numero!=i:\n",
    "            esPrimo=False\n",
    "            break\n",
    "    if esPrimo:\n",
    "        print(numero, ' es primo')\n",
    "    else:\n",
    "        print(numero, ' no es primo')\n"
   ]
  },
  {
   "attachments": {},
   "cell_type": "markdown",
   "metadata": {},
   "source": [
    "11) En los puntos 9 y 10, se diseño un código que encuentra números primos y además se lo optimizó. ¿Es posible saber en qué medida se optimizó?"
   ]
  },
  {
   "cell_type": "code",
   "execution_count": null,
   "metadata": {},
   "outputs": [],
   "source": [
    "#El ejercicio 10 corta el ciclo del for cuando ve que el numero es divisible por otro numero distinto de 1\n",
    "#por ejemplo para el numero 6 cuando ve que es divisible por 2, interrumpe el ciclo de divisiones \n",
    "#y no comprueba si es divisible por 3 pues no es necesario"
   ]
  },
  {
   "attachments": {},
   "cell_type": "markdown",
   "metadata": {},
   "source": [
    "12) Aplicando continue, armar un ciclo while que solo imprima los valores divisibles por 12, dentro del rango de números de 100 a 300"
   ]
  },
  {
   "cell_type": "code",
   "execution_count": 5,
   "metadata": {},
   "outputs": [
    {
     "name": "stdout",
     "output_type": "stream",
     "text": [
      "108\n",
      "120\n",
      "132\n",
      "144\n",
      "156\n",
      "168\n",
      "180\n",
      "192\n",
      "204\n",
      "216\n",
      "228\n",
      "240\n",
      "252\n",
      "264\n",
      "276\n",
      "288\n",
      "300\n"
     ]
    }
   ],
   "source": [
    "for i in range(100,301):\n",
    "    if i%12!=0:\n",
    "        continue\n",
    "    print(i)\n"
   ]
  },
  {
   "attachments": {},
   "cell_type": "markdown",
   "metadata": {},
   "source": [
    "13) Utilizar la función **input()** que permite hacer ingresos por teclado, para encontrar números primos y dar la opción al usario de buscar el siguiente"
   ]
  },
  {
   "cell_type": "code",
   "execution_count": 16,
   "metadata": {},
   "outputs": [
    {
     "name": "stdout",
     "output_type": "stream",
     "text": [
      "1  es primo\n",
      "2  es primo\n",
      "3  es primo\n",
      "5  es primo\n",
      "7  es primo\n",
      "11  es primo\n",
      "13  es primo\n",
      "17  es primo\n",
      "19  es primo\n",
      "23  es primo\n",
      "29  es primo\n",
      "31  es primo\n",
      "37  es primo\n",
      "41  es primo\n",
      "43  es primo\n",
      "47  es primo\n"
     ]
    }
   ],
   "source": [
    "numero=1\n",
    "buscarSiguiente = 's'\n",
    "while (buscarSiguiente=='s' or buscarSiguiente=='S'):\n",
    "    esPrimo = True\n",
    "    num = numero\n",
    "    while esPrimo and num>1:\n",
    "        if numero%num == 0 and num!=numero:\n",
    "            esPrimo=False\n",
    "        num-=1\n",
    "    if esPrimo and numero!=0:\n",
    "        print(numero, ' es primo')\n",
    "        buscarSiguiente=input('Desea buscar el proximo primo s/n')\n",
    "    numero+=1\n",
    "    "
   ]
  },
  {
   "attachments": {},
   "cell_type": "markdown",
   "metadata": {},
   "source": [
    "14) Crear un ciclo while que encuentre dentro del rango de 100 a 300 el primer número divisible por 3 y además múltiplo de 6"
   ]
  },
  {
   "cell_type": "code",
   "execution_count": 18,
   "metadata": {},
   "outputs": [
    {
     "name": "stdout",
     "output_type": "stream",
     "text": [
      "102 divisible por 3 y multiplo de 6\n"
     ]
    }
   ],
   "source": [
    "numero=100\n",
    "while True:\n",
    "    if numero%3==0 and numero%6==0:\n",
    "        print(numero, 'divisible por 3 y multiplo de 6')\n",
    "        break\n",
    "    numero+=1\n"
   ]
  }
 ],
 "metadata": {
  "interpreter": {
   "hash": "c85384e4cb51c8b72350f3a8712cc8351fdc3955e32a27f9b60c6242ab125f01"
  },
  "kernelspec": {
   "display_name": "Python 3 (ipykernel)",
   "language": "python",
   "name": "python3"
  },
  "language_info": {
   "codemirror_mode": {
    "name": "ipython",
    "version": 3
   },
   "file_extension": ".py",
   "mimetype": "text/x-python",
   "name": "python",
   "nbconvert_exporter": "python",
   "pygments_lexer": "ipython3",
   "version": "3.6.9"
  }
 },
 "nbformat": 4,
 "nbformat_minor": 4
}
