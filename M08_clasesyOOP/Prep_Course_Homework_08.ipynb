{
 "cells": [
  {
   "attachments": {},
   "cell_type": "markdown",
   "metadata": {},
   "source": [
    "## Clases y Programación Orientada a Objetos"
   ]
  },
  {
   "attachments": {},
   "cell_type": "markdown",
   "metadata": {},
   "source": [
    "1) Crear la clase vehículo que contenga los atributos:<br>\n",
    "Color<br>\n",
    "Si es moto, auto, camioneta ó camión<br>\n",
    "Cilindrada del motor"
   ]
  },
  {
   "cell_type": "code",
   "execution_count": 1,
   "metadata": {},
   "outputs": [],
   "source": [
    "class Vehiculo:\n",
    "    def __init__(self, color, tipo, cilindrada):\n",
    "        self.color = color\n",
    "        self.tipo = tipo\n",
    "        self.cilindrada = cilindrada\n",
    "    \n"
   ]
  },
  {
   "attachments": {},
   "cell_type": "markdown",
   "metadata": {},
   "source": [
    "2) A la clase Vehiculo creada en el punto 1, agregar los siguientes métodos:<br>\n",
    "Acelerar<br>\n",
    "Frenar<br>\n",
    "Doblar<br>"
   ]
  },
  {
   "cell_type": "code",
   "execution_count": 2,
   "metadata": {},
   "outputs": [],
   "source": [
    "class Vehiculo:\n",
    "    def __init__(self, color, tipo, cilindrada):\n",
    "        self.color = color\n",
    "        self.tipo = tipo\n",
    "        self.cilindrada = cilindrada\n",
    "    \n",
    "    def acelerar(self):\n",
    "        return\n",
    "    def frenar(self):\n",
    "        return\n",
    "    def doblar(self):\n",
    "        return"
   ]
  },
  {
   "attachments": {},
   "cell_type": "markdown",
   "metadata": {},
   "source": [
    "3) Instanciar 3 objetos de la clase vehículo y ejecutar sus métodos, probar luego el resultado"
   ]
  },
  {
   "cell_type": "code",
   "execution_count": 3,
   "metadata": {},
   "outputs": [],
   "source": [
    "auto1 = Vehiculo('Blanco', 'Auto', 1300)\n",
    "moto1 = Vehiculo('Rojo', 'Moto', 250)\n",
    "camion1 = Vehiculo('Azul', 'Camion', 3500)"
   ]
  },
  {
   "attachments": {},
   "cell_type": "markdown",
   "metadata": {},
   "source": [
    "4) Agregar a la clase Vehiculo, un método que muestre su estado, es decir, a que velocidad se encuentra y su dirección. Y otro método que muestre color, tipo y cilindrada"
   ]
  },
  {
   "cell_type": "code",
   "execution_count": 4,
   "metadata": {},
   "outputs": [],
   "source": [
    "class Vehiculo:\n",
    "    def __init__(self, color, tipo, cilindrada, velocidad, direccion):\n",
    "        self.color = color\n",
    "        self.tipo = tipo\n",
    "        self.cilindrada = cilindrada\n",
    "        self.velocidad = velocidad\n",
    "        self.direccion = direccion\n",
    "    def acelerar(self, km):\n",
    "        self.velocidad = self.velocidad + km\n",
    "\n",
    "    def frenar(self, km):\n",
    "        self.velocidad = self.velocidad - km\n",
    "\n",
    "    def doblar(self,direccion):\n",
    "        self.direccion = direccion\n",
    "\n",
    "    def estado(self):\n",
    "        print ('Velocidad:',self.velocidad,'Direccion:',self.direccion)\n",
    "\n",
    "    def carcteristicas(self):\n",
    "        print('Color:',self.color,'Tipo:',self.tipo,'Cilindrada:',self.cilindrada)"
   ]
  },
  {
   "cell_type": "code",
   "execution_count": 5,
   "metadata": {},
   "outputs": [
    {
     "name": "stdout",
     "output_type": "stream",
     "text": [
      "Velocidad: 60 Direccion: N\n"
     ]
    }
   ],
   "source": [
    "auto1 = Vehiculo('Blanco', 'Auto', 1300, 60, 'N')\n",
    "auto1.estado()"
   ]
  },
  {
   "cell_type": "code",
   "execution_count": 6,
   "metadata": {},
   "outputs": [
    {
     "name": "stdout",
     "output_type": "stream",
     "text": [
      "Velocidad: 70 Direccion: N\n"
     ]
    }
   ],
   "source": [
    "auto1.acelerar(10)\n",
    "auto1.estado()\n"
   ]
  },
  {
   "cell_type": "code",
   "execution_count": 7,
   "metadata": {},
   "outputs": [
    {
     "name": "stdout",
     "output_type": "stream",
     "text": [
      "Velocidad: 30 Direccion: E\n"
     ]
    }
   ],
   "source": [
    "auto1.frenar(40)\n",
    "auto1.doblar('E')\n",
    "auto1.estado()"
   ]
  },
  {
   "attachments": {},
   "cell_type": "markdown",
   "metadata": {},
   "source": [
    "5) Crear una clase que permita utilizar las funciones creadas en la práctica del módulo 7<br>\n",
    "Verificar Primo<br>\n",
    "Valor modal<br>\n",
    "Conversión grados<br>\n",
    "Factorial<br>"
   ]
  },
  {
   "cell_type": "code",
   "execution_count": 31,
   "metadata": {},
   "outputs": [],
   "source": [
    "class calculos:\n",
    "\n",
    "    def verificarPrimo(self, numero):\n",
    "        esPrimo = True\n",
    "        num = numero\n",
    "        while esPrimo and num>1:\n",
    "            if numero%num == 0 and num!=numero:\n",
    "                esPrimo=False\n",
    "            num-=1\n",
    "        if esPrimo and numero!=0:\n",
    "            return True\n",
    "        else:\n",
    "            return False\n",
    "    \n",
    "    def valorModal(self, listaNumeros):\n",
    "        numeros=[]\n",
    "        repeticiones=[]\n",
    "        mayorRepeticiones=0\n",
    "        indiceMayor=0\n",
    "        for e in listaNumeros:\n",
    "            if e not in numeros:\n",
    "                numeros.append(e)\n",
    "                repeticiones.append(0)\n",
    "            indice=numeros.index(e)\n",
    "            repeticiones[indice]=repeticiones[indice]+1\n",
    "            if repeticiones[indice]>mayorRepeticiones:\n",
    "                mayorRepeticiones=repeticiones[indice]\n",
    "                indiceMayor=indice\n",
    "        return(numeros[indiceMayor], mayorRepeticiones)\n",
    "\n",
    "    def celsiusFarenheit(self, grados):\n",
    "        return (grados*9/5)+32\n",
    "\n",
    "    def celsiusKelvin(self, grados):\n",
    "        return grados+273.15\n",
    "\n",
    "    def farenheitCelsius(self, grados):\n",
    "        return (grados-32)*5/9\n",
    "\n",
    "    def kelvinCelsius(self, grados):\n",
    "        return grados-273.15\n",
    "\n",
    "    def kelvinFarenheit(self, grados):\n",
    "        valorIntermedio=self.kelvinCelsius(grados)\n",
    "        return (self.celsiusFarenheit(valorIntermedio))\n",
    "\n",
    "    def farenheitKelvin(self, grados):\n",
    "        valorIntermedio=self.farenheitCelsius(grados)\n",
    "        return (self.celsiusKelvin(valorIntermedio))\n",
    "\n",
    "    def conversionGrados(self,valor,origen,destino):\n",
    "        if origen=='celsius' and destino=='farenheit':\n",
    "            return(self.celsiusFarenheit(valor))\n",
    "        if origen=='celsius' and destino=='kelvin':\n",
    "            return self.celsiusKelvin(valor)\n",
    "        if origen=='farenheit' and destino=='celsius':\n",
    "            return(self.farenheitCelsius(valor))\n",
    "        if origen=='kelvin' and destino=='celsius':\n",
    "            return self.kelvinCelsius(valor)\n",
    "        if origen=='kelvin' and destino=='farenheit':\n",
    "            return self.kelvinFarenheit(valor)        \n",
    "        if origen=='farenheit' and destino=='kelvin':\n",
    "            return self.farenheitKelvin(valor)\n",
    "\n",
    "\n",
    "    def factorial(self, numero):\n",
    "        if numero == 0:\n",
    "            return 1\n",
    "        if numero <0:\n",
    "            return 'Error: Debe ser positivo o 0'\n",
    "        if numero>1:\n",
    "            numero=numero*self.factorial(numero-1)\n",
    "        return numero\n",
    "    \n",
    "   \n"
   ]
  },
  {
   "attachments": {},
   "cell_type": "markdown",
   "metadata": {},
   "source": [
    "6) Probar las funciones incorporadas en la clase del punto 5"
   ]
  },
  {
   "cell_type": "code",
   "execution_count": 32,
   "metadata": {},
   "outputs": [
    {
     "name": "stdout",
     "output_type": "stream",
     "text": [
      "True\n",
      "(7, 2)\n",
      "283.15\n",
      "6\n"
     ]
    }
   ],
   "source": [
    "calculo1 = calculos()\n",
    "print(calculo1.verificarPrimo(1))\n",
    "\n",
    "print(calculo1.valorModal([1,5,6,7,7,8,9,10]))\n",
    "\n",
    "print(calculo1.conversionGrados(10,'celsius', 'kelvin'))\n",
    "\n",
    "print(calculo1.factorial(3))"
   ]
  },
  {
   "attachments": {},
   "cell_type": "markdown",
   "metadata": {},
   "source": [
    "7) Es necesario que la clase creada en el punto 5 contenga una lista, sobre la cual se apliquen las funciones incorporadas"
   ]
  },
  {
   "cell_type": "code",
   "execution_count": 23,
   "metadata": {},
   "outputs": [],
   "source": [
    "class calculos:\n",
    "\n",
    "    def __init__(self, lista_numeros) -> None:\n",
    "        self.lista_numeros = lista_numeros\n",
    "\n",
    "    def __verificarPrimo(self, numero):\n",
    "        esPrimo = True\n",
    "        num = numero\n",
    "        while esPrimo and num>1:\n",
    "            if numero%num == 0 and num!=numero:\n",
    "                esPrimo=False\n",
    "            num-=1\n",
    "        if esPrimo and numero!=0:\n",
    "            return True\n",
    "        else:\n",
    "            return False\n",
    "        \n",
    "    def verificarPrimo(self):\n",
    "        for n in self.lista_numeros:\n",
    "            if (self.__verificarPrimo(n)):\n",
    "                print('El numero ',n ,' es primo')\n",
    "            else:\n",
    "                print('El numero ',n ,' no es primo')    \n",
    "    \n",
    "    def valorModal(self):\n",
    "        numeros=[]\n",
    "        repeticiones=[]\n",
    "        mayorRepeticiones=0\n",
    "        indiceMayor=0\n",
    "        for e in self.lista_numeros:\n",
    "            if e not in numeros:\n",
    "                numeros.append(e)\n",
    "                repeticiones.append(0)\n",
    "            indice=numeros.index(e)\n",
    "            repeticiones[indice]=repeticiones[indice]+1\n",
    "            if repeticiones[indice]>mayorRepeticiones:\n",
    "                mayorRepeticiones=repeticiones[indice]\n",
    "                indiceMayor=indice\n",
    "        return(numeros[indiceMayor], mayorRepeticiones)\n",
    "\n",
    "    def celsiusFarenheit(self, grados):\n",
    "        return (grados*9/5)+32\n",
    "\n",
    "    def celsiusKelvin(self, grados):\n",
    "        return grados+273.15\n",
    "\n",
    "    def farenheitCelsius(self, grados):\n",
    "        return (grados-32)*5/9\n",
    "\n",
    "    def kelvinCelsius(self, grados):\n",
    "        return grados-273.15\n",
    "\n",
    "    def kelvinFarenheit(self, grados):\n",
    "        valorIntermedio=self.kelvinCelsius(grados)\n",
    "        return (self.celsiusFarenheit(valorIntermedio))\n",
    "\n",
    "    def farenheitKelvin(self, grados):\n",
    "        valorIntermedio=self.farenheitCelsius(grados)\n",
    "        return (self.celsiusKelvin(valorIntermedio))\n",
    "\n",
    "    def __conversionGrados(self,valor,origen,destino):\n",
    "        if origen=='celsius' and destino=='farenheit':\n",
    "            return(self.celsiusFarenheit(valor))\n",
    "        if origen=='celsius' and destino=='kelvin':\n",
    "            return self.celsiusKelvin(valor)\n",
    "        if origen=='farenheit' and destino=='celsius':\n",
    "            return(self.farenheitCelsius(valor))\n",
    "        if origen=='kelvin' and destino=='celsius':\n",
    "            return self.kelvinCelsius(valor)\n",
    "        if origen=='kelvin' and destino=='farenheit':\n",
    "            return self.kelvinFarenheit(valor)        \n",
    "        if origen=='farenheit' and destino=='kelvin':\n",
    "            return self.farenheitKelvin(valor)\n",
    "        \n",
    "    def conversionGrados(self, origen, destino):\n",
    "        for n in self.lista_numeros:\n",
    "            resultado = self.__conversionGrados(n, origen, destino)\n",
    "            print(n, ' grados ',origen, 'son ', resultado,' grados ',destino)\n",
    "\n",
    "    def factorial(self, numero):\n",
    "        if numero == 0:\n",
    "            return 1\n",
    "        if numero <0:\n",
    "            return 'Error: Debe ser positivo o 0'\n",
    "        if numero>1:\n",
    "            numero=numero*self.factorial(numero-1)\n",
    "        return numero\n",
    "    \n",
    "    def factoriales(self):\n",
    "        for n in self.lista_numeros:\n",
    "            print('Factorial de ',n, ':', self.factorial(n))\n",
    "        return\n",
    "    \n",
    "   \n"
   ]
  },
  {
   "cell_type": "code",
   "execution_count": 24,
   "metadata": {},
   "outputs": [
    {
     "name": "stdout",
     "output_type": "stream",
     "text": [
      "El numero  1  es primo\n",
      "El numero  5  es primo\n",
      "El numero  6  no es primo\n",
      "El numero  7  es primo\n",
      "El numero  7  es primo\n",
      "El numero  8  no es primo\n",
      "El numero  9  no es primo\n",
      "El numero  10  no es primo\n"
     ]
    }
   ],
   "source": [
    "calculo2 = calculos([1,5,6,7,7,8,9,10])\n",
    "calculo2.verificarPrimo()"
   ]
  },
  {
   "cell_type": "code",
   "execution_count": 12,
   "metadata": {},
   "outputs": [
    {
     "name": "stdout",
     "output_type": "stream",
     "text": [
      "1  grados  celsius son  274.15  grados  kelvin\n",
      "5  grados  celsius son  278.15  grados  kelvin\n",
      "6  grados  celsius son  279.15  grados  kelvin\n",
      "7  grados  celsius son  280.15  grados  kelvin\n",
      "7  grados  celsius son  280.15  grados  kelvin\n",
      "8  grados  celsius son  281.15  grados  kelvin\n",
      "9  grados  celsius son  282.15  grados  kelvin\n",
      "10  grados  celsius son  283.15  grados  kelvin\n"
     ]
    }
   ],
   "source": [
    "calculo2.conversionGrados('celsius', 'kelvin')"
   ]
  },
  {
   "cell_type": "code",
   "execution_count": 17,
   "metadata": {},
   "outputs": [
    {
     "name": "stdout",
     "output_type": "stream",
     "text": [
      "El numero 7  esta  2 veces\n"
     ]
    }
   ],
   "source": [
    "numero, veces = calculo2.valorModal()\n",
    "print('El numero',numero, ' esta ',veces, 'veces')"
   ]
  },
  {
   "cell_type": "code",
   "execution_count": 25,
   "metadata": {},
   "outputs": [
    {
     "name": "stdout",
     "output_type": "stream",
     "text": [
      "Factorial de  1 : 1\n",
      "Factorial de  5 : 120\n",
      "Factorial de  6 : 720\n",
      "Factorial de  7 : 5040\n",
      "Factorial de  7 : 5040\n",
      "Factorial de  8 : 40320\n",
      "Factorial de  9 : 362880\n",
      "Factorial de  10 : 3628800\n"
     ]
    }
   ],
   "source": [
    "calculo2.factoriales()"
   ]
  },
  {
   "attachments": {},
   "cell_type": "markdown",
   "metadata": {},
   "source": [
    "8) Crear un archivo .py aparte y ubicar allí la clase generada en el punto anterior. Luego realizar la importación del módulo y probar alguna de sus funciones"
   ]
  },
  {
   "cell_type": "code",
   "execution_count": 1,
   "metadata": {},
   "outputs": [],
   "source": [
    "from calculos import *"
   ]
  },
  {
   "cell_type": "code",
   "execution_count": 2,
   "metadata": {},
   "outputs": [],
   "source": [
    "calculo3 = calculos([0,1,2,3,4,5,6,7,8,9,10])"
   ]
  },
  {
   "cell_type": "code",
   "execution_count": 3,
   "metadata": {},
   "outputs": [
    {
     "name": "stdout",
     "output_type": "stream",
     "text": [
      "El numero  0  no es primo\n",
      "El numero  1  es primo\n",
      "El numero  2  es primo\n",
      "El numero  3  es primo\n",
      "El numero  4  no es primo\n",
      "El numero  5  es primo\n",
      "El numero  6  no es primo\n",
      "El numero  7  es primo\n",
      "El numero  8  no es primo\n",
      "El numero  9  no es primo\n",
      "El numero  10  no es primo\n"
     ]
    }
   ],
   "source": [
    "calculo3.verificarPrimo()"
   ]
  }
 ],
 "metadata": {
  "interpreter": {
   "hash": "c85384e4cb51c8b72350f3a8712cc8351fdc3955e32a27f9b60c6242ab125f01"
  },
  "kernelspec": {
   "display_name": "Python 3 (ipykernel)",
   "language": "python",
   "name": "python3"
  },
  "language_info": {
   "codemirror_mode": {
    "name": "ipython",
    "version": 3
   },
   "file_extension": ".py",
   "mimetype": "text/x-python",
   "name": "python",
   "nbconvert_exporter": "python",
   "pygments_lexer": "ipython3",
   "version": "3.10.12"
  }
 },
 "nbformat": 4,
 "nbformat_minor": 4
}
