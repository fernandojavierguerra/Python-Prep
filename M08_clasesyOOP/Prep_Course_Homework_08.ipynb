{
 "cells": [
  {
   "attachments": {},
   "cell_type": "markdown",
   "metadata": {},
   "source": [
    "## Clases y Programación Orientada a Objetos"
   ]
  },
  {
   "attachments": {},
   "cell_type": "markdown",
   "metadata": {},
   "source": [
    "1) Crear la clase vehículo que contenga los atributos:<br>\n",
    "Color<br>\n",
    "Si es moto, auto, camioneta ó camión<br>\n",
    "Cilindrada del motor"
   ]
  },
  {
   "cell_type": "code",
   "execution_count": null,
   "metadata": {},
   "outputs": [],
   "source": [
    "class Vehiculo:\n",
    "    def __init__(self, color, tipo, cilindrada):\n",
    "        self.color = color\n",
    "        self.tipo = tipo\n",
    "        self.cilindrada = cilindrada\n",
    "    \n"
   ]
  },
  {
   "attachments": {},
   "cell_type": "markdown",
   "metadata": {},
   "source": [
    "2) A la clase Vehiculo creada en el punto 1, agregar los siguientes métodos:<br>\n",
    "Acelerar<br>\n",
    "Frenar<br>\n",
    "Doblar<br>"
   ]
  },
  {
   "cell_type": "code",
   "execution_count": 2,
   "metadata": {},
   "outputs": [],
   "source": [
    "class Vehiculo:\n",
    "    def __init__(self, color, tipo, cilindrada):\n",
    "        self.color = color\n",
    "        self.tipo = tipo\n",
    "        self.cilindrada = cilindrada\n",
    "    \n",
    "    def acelerar(self):\n",
    "        return\n",
    "    def frenar(self):\n",
    "        return\n",
    "    def doblar(self):\n",
    "        return"
   ]
  },
  {
   "attachments": {},
   "cell_type": "markdown",
   "metadata": {},
   "source": [
    "3) Instanciar 3 objetos de la clase vehículo y ejecutar sus métodos, probar luego el resultado"
   ]
  },
  {
   "cell_type": "code",
   "execution_count": 5,
   "metadata": {},
   "outputs": [],
   "source": [
    "auto1 = Vehiculo('Blanco', 'Auto', 1300)\n",
    "moto1 = Vehiculo('Rojo', 'Moto', 250)\n",
    "camion1 = Vehiculo('Azul', 'Camion', 3500)"
   ]
  },
  {
   "attachments": {},
   "cell_type": "markdown",
   "metadata": {},
   "source": [
    "4) Agregar a la clase Vehiculo, un método que muestre su estado, es decir, a que velocidad se encuentra y su dirección. Y otro método que muestre color, tipo y cilindrada"
   ]
  },
  {
   "cell_type": "code",
   "execution_count": 15,
   "metadata": {},
   "outputs": [],
   "source": [
    "class Vehiculo:\n",
    "    def __init__(self, color, tipo, cilindrada, velocidad, direccion):\n",
    "        self.color = color\n",
    "        self.tipo = tipo\n",
    "        self.cilindrada = cilindrada\n",
    "        self.velocidad = velocidad\n",
    "        self.direccion = direccion\n",
    "    def acelerar(self, km):\n",
    "        self.velocidad = self.velocidad + km\n",
    "\n",
    "    def frenar(self, km):\n",
    "        self.velocidad = self.velocidad - km\n",
    "\n",
    "    def doblar(self,direccion):\n",
    "        self.direccion = direccion\n",
    "\n",
    "    def estado(self):\n",
    "        print ('Velocidad:',self.velocidad,'Direccion:',self.direccion)\n",
    "\n",
    "    def carcteristicas(self):\n",
    "        print('Color:',self.color,'Tipo:',self.tipo,'Cilindrada:',self.cilindrada)"
   ]
  },
  {
   "cell_type": "code",
   "execution_count": 24,
   "metadata": {},
   "outputs": [
    {
     "name": "stdout",
     "output_type": "stream",
     "text": [
      "Velocidad: 60 Direccion: N\n"
     ]
    }
   ],
   "source": [
    "auto1 = Vehiculo('Blanco', 'Auto', 1300, 60, 'N')\n",
    "auto1.estado()"
   ]
  },
  {
   "cell_type": "code",
   "execution_count": 25,
   "metadata": {},
   "outputs": [
    {
     "name": "stdout",
     "output_type": "stream",
     "text": [
      "Velocidad: 70 Direccion: N\n"
     ]
    }
   ],
   "source": [
    "auto1.acelerar(10)\n",
    "auto1.estado()\n"
   ]
  },
  {
   "cell_type": "code",
   "execution_count": 26,
   "metadata": {},
   "outputs": [
    {
     "name": "stdout",
     "output_type": "stream",
     "text": [
      "Velocidad: 30 Direccion: E\n"
     ]
    }
   ],
   "source": [
    "auto1.frenar(40)\n",
    "auto1.doblar('E')\n",
    "auto1.estado()"
   ]
  },
  {
   "attachments": {},
   "cell_type": "markdown",
   "metadata": {},
   "source": [
    "5) Crear una clase que permita utilizar las funciones creadas en la práctica del módulo 7<br>\n",
    "Verificar Primo<br>\n",
    "Valor modal<br>\n",
    "Conversión grados<br>\n",
    "Factorial<br>"
   ]
  },
  {
   "cell_type": "code",
   "execution_count": 28,
   "metadata": {},
   "outputs": [],
   "source": [
    "class calculos:\n",
    "\n",
    "    def esPrimo(numero):\n",
    "        esPrimo = True\n",
    "        num = numero\n",
    "        while esPrimo and num>1:\n",
    "            if numero%num == 0 and num!=numero:\n",
    "                esPrimo=False\n",
    "            num-=1\n",
    "        if esPrimo and numero!=0:\n",
    "            return True\n",
    "        else:\n",
    "            return False\n",
    "\n",
    "    def verificarPrimos(self, listaNumeros):\n",
    "        primos=[]\n",
    "        for e in listaNumeros:\n",
    "            if self.esPrimo(e):\n",
    "                primos.append(e)\n",
    "        return primos  \n",
    "    \n",
    "    def valorModal(self, listaNumeros):\n",
    "        numeros=[]\n",
    "        repeticiones=[]\n",
    "        mayorRepeticiones=0\n",
    "        indiceMayor=0\n",
    "        for e in lista:\n",
    "            if e not in listaNumeros:\n",
    "                numeros.append(e)\n",
    "                repeticiones.append(0)\n",
    "            indice=numeros.index(e)\n",
    "            repeticiones[indice]=repeticiones[indice]+1\n",
    "            if repeticiones[indice]>mayorRepeticiones:\n",
    "                mayorRepeticiones=repeticiones[indice]\n",
    "                indiceMayor=indice\n",
    "        return(numeros[indiceMayor], mayorRepeticiones)\n",
    "\n",
    "    def celsiusFarenheit(grados):\n",
    "        return (grados*9/5)+32\n",
    "\n",
    "    def celsiusKelvin(grados):\n",
    "        return grados+273.15\n",
    "\n",
    "    def farenheitCelsius(grados):\n",
    "        return (grados-32)*5/9\n",
    "\n",
    "    def kelvinCelsius(grados):\n",
    "        return grados-273.15\n",
    "\n",
    "    def kelvinFarenheit(grados):\n",
    "        valorIntermedio=self.kelvinCelsius(grados)\n",
    "        return (self.celsiusFarenheit(valorIntermedio))\n",
    "\n",
    "    def farenheitKelvin(grados):\n",
    "        valorIntermedio=self.farenheitCelsius(grados)\n",
    "        return (self.celsiusKelvin(valorIntermedio))\n",
    "\n",
    "    def conversionGrados(self,valor,origen,destino):\n",
    "        if origen=='celsius' and destino=='farenheit':\n",
    "            return(self.celsiusFarenheit(valor))\n",
    "        if origen=='celsius' and destino=='kelvin':\n",
    "            return self.celsiusKelvin(valor)\n",
    "        if origen=='farenheit' and destino=='celsius':\n",
    "            return(self.farenheitCelsius(valor))\n",
    "        if origen=='kelvin' and destino=='celsius':\n",
    "            return self.kelvinCelsius(valor)\n",
    "        if origen=='kelvin' and destino=='farenheit':\n",
    "            return self.kelvinFarenheit(valor)        \n",
    "        if origen=='farenheit' and destino=='kelvin':\n",
    "            return self.farenheitKelvin(valor)\n",
    "\n",
    "\n",
    "    def factorial(self, numero):\n",
    "        if numero == 0:\n",
    "            return 1\n",
    "        if numero <0:\n",
    "            return 'Error: Debe ser positivo o 0'\n",
    "        if numero>1:\n",
    "            numero=numero*self.factorial(numero-1)\n",
    "        return numero\n",
    "    \n",
    "   \n"
   ]
  },
  {
   "attachments": {},
   "cell_type": "markdown",
   "metadata": {},
   "source": [
    "6) Probar las funciones incorporadas en la clase del punto 5"
   ]
  },
  {
   "cell_type": "code",
   "execution_count": null,
   "metadata": {},
   "outputs": [],
   "source": []
  },
  {
   "attachments": {},
   "cell_type": "markdown",
   "metadata": {},
   "source": [
    "7) Es necesario que la clase creada en el punto 5 contenga una lista, sobre la cual se apliquen las funciones incorporadas"
   ]
  },
  {
   "cell_type": "code",
   "execution_count": null,
   "metadata": {},
   "outputs": [],
   "source": []
  },
  {
   "attachments": {},
   "cell_type": "markdown",
   "metadata": {},
   "source": [
    "8) Crear un archivo .py aparte y ubicar allí la clase generada en el punto anterior. Luego realizar la importación del módulo y probar alguna de sus funciones"
   ]
  },
  {
   "cell_type": "code",
   "execution_count": null,
   "metadata": {},
   "outputs": [],
   "source": []
  }
 ],
 "metadata": {
  "interpreter": {
   "hash": "c85384e4cb51c8b72350f3a8712cc8351fdc3955e32a27f9b60c6242ab125f01"
  },
  "kernelspec": {
   "display_name": "Python 3 (ipykernel)",
   "language": "python",
   "name": "python3"
  },
  "language_info": {
   "codemirror_mode": {
    "name": "ipython",
    "version": 3
   },
   "file_extension": ".py",
   "mimetype": "text/x-python",
   "name": "python",
   "nbconvert_exporter": "python",
   "pygments_lexer": "ipython3",
   "version": "3.10.12"
  }
 },
 "nbformat": 4,
 "nbformat_minor": 4
}
