{
 "cells": [
  {
   "attachments": {},
   "cell_type": "markdown",
   "metadata": {},
   "source": [
    "## Funciones"
   ]
  },
  {
   "attachments": {},
   "cell_type": "markdown",
   "metadata": {},
   "source": [
    "1) Crear una función que reciba un número como parámetro y devuelva True si es primo y False si no lo es"
   ]
  },
  {
   "cell_type": "code",
   "execution_count": 1,
   "metadata": {},
   "outputs": [],
   "source": [
    "def esPrimo(numero):\n",
    "    esPrimo = True\n",
    "    num = numero\n",
    "    while esPrimo and num>1:\n",
    "        if numero%num == 0 and num!=numero:\n",
    "            esPrimo=False\n",
    "        num-=1\n",
    "    if esPrimo and numero!=0:\n",
    "        return True\n",
    "    else:\n",
    "        return False\n"
   ]
  },
  {
   "attachments": {},
   "cell_type": "markdown",
   "metadata": {},
   "source": [
    "2) Utilizando la función del punto 1, realizar otra función que reciba de parámetro una lista de números y devuelva sólo aquellos que son primos en otra lista"
   ]
  },
  {
   "cell_type": "code",
   "execution_count": 3,
   "metadata": {},
   "outputs": [],
   "source": [
    "def retornarPrimos(numeros):\n",
    "    primos=[]\n",
    "    for e in numeros:\n",
    "        if esPrimo(e):\n",
    "            primos.append(e)\n",
    "    return primos"
   ]
  },
  {
   "cell_type": "code",
   "execution_count": 5,
   "metadata": {},
   "outputs": [
    {
     "name": "stdout",
     "output_type": "stream",
     "text": [
      "[2, 5, 7, 17, 19]\n"
     ]
    }
   ],
   "source": [
    "print(retornarPrimos([2,4,5,6,7,9,17,19,20]))\n"
   ]
  },
  {
   "attachments": {},
   "cell_type": "markdown",
   "metadata": {},
   "source": [
    "3) Crear una función que al recibir una lista de números, devuelva el que más se repite y cuántas veces lo hace. Si hay más de un \"más repetido\", que devuelva cualquiera"
   ]
  },
  {
   "cell_type": "code",
   "execution_count": 13,
   "metadata": {},
   "outputs": [],
   "source": [
    "def masRepetido(lista):\n",
    "    numeros=[]\n",
    "    repeticiones=[]\n",
    "    mayorRepeticiones=0\n",
    "    indiceMayor=0\n",
    "    for e in lista:\n",
    "        if e not in numeros:\n",
    "            numeros.append(e)\n",
    "            repeticiones.append(0)\n",
    "        indice=numeros.index(e)\n",
    "        repeticiones[indice]=repeticiones[indice]+1\n",
    "        if repeticiones[indice]>mayorRepeticiones:\n",
    "            mayorRepeticiones=repeticiones[indice]\n",
    "            indiceMayor=indice\n",
    "    return(numeros[indiceMayor], mayorRepeticiones)"
   ]
  },
  {
   "cell_type": "code",
   "execution_count": 17,
   "metadata": {},
   "outputs": [
    {
     "name": "stdout",
     "output_type": "stream",
     "text": [
      "(4, 2)\n"
     ]
    }
   ],
   "source": [
    "print(masRepetido([10,6,4,11,12,2,1,4,5]))"
   ]
  },
  {
   "attachments": {},
   "cell_type": "markdown",
   "metadata": {},
   "source": [
    "4) Crear una función que convierta entre grados Celsius, Farenheit y Kelvin<br>\n",
    "Fórmula 1\t: (°C × 9/5) + 32 = °F<br>\n",
    "Fórmula 2\t: °C + 273.15 = °K<br>\n",
    "Debe recibir 3 parámetros: el valor, la medida de orígen y la medida de destino\n"
   ]
  },
  {
   "cell_type": "code",
   "execution_count": 20,
   "metadata": {},
   "outputs": [],
   "source": [
    "def celsiusFarenheit(grados):\n",
    "    return (grados*9/5)+32\n",
    "\n",
    "def celsiusKelvin(grados):\n",
    "    return grados+273.15\n",
    "\n",
    "def farenheitCelsius(grados):\n",
    "    return (grados-32)*5/9\n",
    "\n",
    "def kelvinCelsius(grados):\n",
    "    return grados-273.15\n",
    "\n",
    "def kelvinFarenheit(grados):\n",
    "    valorIntermedio=kelvinCelsius(grados)\n",
    "    return (celsiusFarenheit(valorIntermedio))\n",
    "\n",
    "def farenheitKelvin(grados):\n",
    "    valorIntermedio=farenheitCelsius(grados)\n",
    "    return (celsiusKelvin(valorIntermedio))\n",
    "\n",
    "def convertirGrados(valor,origen,destino):\n",
    "    if origen=='celsius' and destino=='farenheit':\n",
    "        return(celsiusFarenheit(valor))\n",
    "    if origen=='celsius' and destino=='kelvin':\n",
    "        return celsiusKelvin(valor)\n",
    "    if origen=='farenheit' and destino=='celsius':\n",
    "        return(farenheitCelsius(valor))\n",
    "    if origen=='kelvin' and destino=='celsius':\n",
    "        return kelvinCelsius(valor)\n",
    "    if origen=='kelvin' and destino=='farenheit':\n",
    "        return kelvinFarenheit(valor)        \n",
    "    if origen=='farenheit' and destino=='kelvin':\n",
    "        return farenheitKelvin(valor)"
   ]
  },
  {
   "attachments": {},
   "cell_type": "markdown",
   "metadata": {},
   "source": [
    "5) Iterando una lista con los tres valores posibles de temperatura que recibe la función del punto 5, hacer un print para cada combinación de los mismos:"
   ]
  },
  {
   "cell_type": "code",
   "execution_count": 28,
   "metadata": {},
   "outputs": [
    {
     "name": "stdout",
     "output_type": "stream",
     "text": [
      "10 °  celsius  son  50.0 ° farenheit\n",
      "50.0 °  farenheit  son  10.0 ° celsius\n"
     ]
    }
   ],
   "source": [
    "grados=10\n",
    "origen='celsius'\n",
    "destino='farenheit'\n",
    "resultado=convertirGrados(grados,origen,destino)\n",
    "print (grados,'° ',origen,' son ', resultado, '°', destino)\n",
    "\n",
    "grados=resultado\n",
    "origen='farenheit'\n",
    "destino='celsius'\n",
    "resultado=convertirGrados(grados,origen,destino)\n",
    "print (grados,'° ',origen,' son ', resultado, '°', destino)\n"
   ]
  },
  {
   "cell_type": "code",
   "execution_count": 29,
   "metadata": {},
   "outputs": [
    {
     "name": "stdout",
     "output_type": "stream",
     "text": [
      "20 °  celsius  son  293.15 ° kelvin\n",
      "293.15 °  kelvin  son  20.0 ° celsius\n"
     ]
    }
   ],
   "source": [
    "grados=20\n",
    "origen='celsius'\n",
    "destino='kelvin'\n",
    "resultado=convertirGrados(grados,origen,destino)\n",
    "print (grados,'° ',origen,' son ', resultado, '°', destino)\n",
    "\n",
    "grados=resultado\n",
    "origen='kelvin'\n",
    "destino='celsius'\n",
    "resultado=convertirGrados(grados,origen,destino)\n",
    "print (grados,'° ',origen,' son ', resultado, '°', destino)\n"
   ]
  },
  {
   "cell_type": "code",
   "execution_count": 30,
   "metadata": {},
   "outputs": [
    {
     "name": "stdout",
     "output_type": "stream",
     "text": [
      "5 °  farenheit  son  258.15 ° kelvin\n",
      "258.15 °  kelvin  son  5.0 ° farenheit\n"
     ]
    }
   ],
   "source": [
    "grados=5\n",
    "origen='farenheit'\n",
    "destino='kelvin'\n",
    "resultado=convertirGrados(grados,origen,destino)\n",
    "print (grados,'° ',origen,' son ', resultado, '°', destino)\n",
    "\n",
    "grados=resultado\n",
    "origen='kelvin'\n",
    "destino='farenheit'\n",
    "resultado=convertirGrados(grados,origen,destino)\n",
    "print (grados,'° ',origen,' son ', resultado, '°', destino)"
   ]
  },
  {
   "attachments": {},
   "cell_type": "markdown",
   "metadata": {},
   "source": [
    "6) Armar una función que devuelva el factorial de un número. Tener en cuenta que el usuario puede equivocarse y enviar de parámetro un número no entero o negativo"
   ]
  },
  {
   "cell_type": "code",
   "execution_count": 37,
   "metadata": {},
   "outputs": [],
   "source": [
    "def factorial(numero):\n",
    "    if numero == 0:\n",
    "        return 1\n",
    "    if numero <0:\n",
    "        return 'Error: Debe ser positivo o 0'\n",
    "    if numero>1:\n",
    "        numero=numero*factorial(numero-1)\n",
    "    return numero\n"
   ]
  },
  {
   "cell_type": "code",
   "execution_count": 40,
   "metadata": {},
   "outputs": [
    {
     "name": "stdout",
     "output_type": "stream",
     "text": [
      "1\n",
      "120\n",
      "Error\n"
     ]
    }
   ],
   "source": [
    "print(factorial(0))\n",
    "print(factorial(5))\n",
    "print(factorial(-5))"
   ]
  }
 ],
 "metadata": {
  "interpreter": {
   "hash": "c85384e4cb51c8b72350f3a8712cc8351fdc3955e32a27f9b60c6242ab125f01"
  },
  "kernelspec": {
   "display_name": "Python 3 (ipykernel)",
   "language": "python",
   "name": "python3"
  },
  "language_info": {
   "codemirror_mode": {
    "name": "ipython",
    "version": 3
   },
   "file_extension": ".py",
   "mimetype": "text/x-python",
   "name": "python",
   "nbconvert_exporter": "python",
   "pygments_lexer": "ipython3",
   "version": "3.10.12"
  }
 },
 "nbformat": 4,
 "nbformat_minor": 4
}
